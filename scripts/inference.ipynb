{
 "cells": [
  {
   "cell_type": "code",
   "execution_count": null,
   "id": "7f697c17",
   "metadata": {},
   "outputs": [],
   "source": [
    "import cv2\n",
    "from matplotlib import pyplot as plt\n",
    "\n",
    "from ocr.predictor import OcrPredictor"
   ]
  },
  {
   "cell_type": "code",
   "execution_count": null,
   "id": "dfcdda9a",
   "metadata": {},
   "outputs": [],
   "source": [
    "IMG_PATH = ''\n",
    "MODEL_PATH = ''\n",
    "CONFIG_PATH = ''\n",
    "DEVICE = 'cuda'"
   ]
  },
  {
   "cell_type": "code",
   "execution_count": null,
   "id": "4b5bea12",
   "metadata": {},
   "outputs": [],
   "source": [
    "predictor = OcrPredictor(\n",
    "    model_path=MODEL_PATH,\n",
    "    config_path=CONFIG_PATH,\n",
    "    device=DEVICE\n",
    ")"
   ]
  },
  {
   "cell_type": "code",
   "execution_count": null,
   "id": "d98474fd",
   "metadata": {},
   "outputs": [],
   "source": [
    "img = cv2.imread(IMG_PATH)"
   ]
  },
  {
   "cell_type": "code",
   "execution_count": null,
   "id": "997df295",
   "metadata": {},
   "outputs": [],
   "source": [
    "pred_data = predictor(img)"
   ]
  },
  {
   "cell_type": "code",
   "execution_count": null,
   "id": "544e7279",
   "metadata": {},
   "outputs": [],
   "source": [
    "print(pred_data)\n",
    "\n",
    "plt.figure(figsize=(5, 5))\n",
    "plt.imshow(img)"
   ]
  }
 ],
 "metadata": {
  "kernelspec": {
   "display_name": "Python 3 (ipykernel)",
   "language": "python",
   "name": "python3"
  },
  "language_info": {
   "codemirror_mode": {
    "name": "ipython",
    "version": 3
   },
   "file_extension": ".py",
   "mimetype": "text/x-python",
   "name": "python",
   "nbconvert_exporter": "python",
   "pygments_lexer": "ipython3",
   "version": "3.8.10"
  }
 },
 "nbformat": 4,
 "nbformat_minor": 5
}
