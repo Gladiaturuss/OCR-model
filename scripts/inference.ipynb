{
 "cells": [
  {
   "cell_type": "code",
   "execution_count": null,
   "id": "7f697c17",
   "metadata": {},
   "outputs": [],
   "source": [
    "import cv2\n",
    "from matplotlib import pyplot as plt\n",
    "\n",
    "from ocr.predictor import OcrPredictor"
   ]
  },
  {
   "cell_type": "code",
   "execution_count": null,
   "id": "dfcdda9a",
   "metadata": {},
   "outputs": [],
   "source": [
    "IMG_PATHS = ['']\n",
    "MODEL_PATH = ''\n",
    "CONFIG_PATH = ''\n",
    "DEVICE = 'cuda'"
   ]
  },
  {
   "cell_type": "code",
   "execution_count": null,
   "id": "4b5bea12",
   "metadata": {},
   "outputs": [],
   "source": [
    "predictor = OcrPredictor(\n",
    "    model_path=MODEL_PATH,\n",
    "    config_path=CONFIG_PATH,\n",
    "    device=DEVICE\n",
    ")"
   ]
  },
  {
   "cell_type": "markdown",
   "id": "ab3608af",
   "metadata": {},
   "source": [
    "# Predict on a list of images"
   ]
  },
  {
   "cell_type": "code",
   "execution_count": null,
   "id": "d98474fd",
   "metadata": {},
   "outputs": [],
   "source": [
    "images = [cv2.imread(i) for i in IMG_PATHS]\n",
    "\n",
    "pred_texts = predictor(images)"
   ]
  },
  {
   "cell_type": "code",
   "execution_count": null,
   "id": "544e7279",
   "metadata": {},
   "outputs": [],
   "source": [
    "for idx, pred_text in enumerate(pred_texts):\n",
    "    print(pred_text)\n",
    "\n",
    "    plt.figure(figsize=(5, 5))\n",
    "    plt.imshow(images[idx])\n",
    "    plt.show()"
   ]
  },
  {
   "cell_type": "markdown",
   "id": "d5ca22c0",
   "metadata": {},
   "source": [
    "# Predict on one image"
   ]
  },
  {
   "cell_type": "code",
   "execution_count": null,
   "id": "8003fab6",
   "metadata": {},
   "outputs": [],
   "source": [
    "image = cv2.imread(IMG_PATHS[0])\n",
    "\n",
    "pred_text = predictor(image)"
   ]
  },
  {
   "cell_type": "code",
   "execution_count": null,
   "id": "92e1958b",
   "metadata": {},
   "outputs": [],
   "source": [
    "print(pred_text)\n",
    "\n",
    "plt.figure(figsize=(5, 5))\n",
    "plt.imshow(image)\n",
    "plt.show()"
   ]
  }
 ],
 "metadata": {
  "kernelspec": {
   "display_name": "Python 3 (ipykernel)",
   "language": "python",
   "name": "python3"
  },
  "language_info": {
   "codemirror_mode": {
    "name": "ipython",
    "version": 3
   },
   "file_extension": ".py",
   "mimetype": "text/x-python",
   "name": "python",
   "nbconvert_exporter": "python",
   "pygments_lexer": "ipython3",
   "version": "3.8.10"
  }
 },
 "nbformat": 4,
 "nbformat_minor": 5
}
